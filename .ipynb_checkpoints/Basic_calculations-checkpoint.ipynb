{
 "cells": [
  {
   "cell_type": "markdown",
   "id": "173cc1d5-87dd-435c-9a75-4c8fe3be51ad",
   "metadata": {},
   "source": [
    "# VASP Tutorial for GaAs Bulk Calculations\n",
    "\n",
    "This tutorial guides you through performing calculations for bulk GaAs (Gallium Arsenide) using VASP. The workflow includes:\n",
    "1. Self-Consistent Field (SCF) calculation\n",
    "2. Geometry Optimization\n",
    "3. Density of States (DOS) calculation\n",
    "4. Band Structure calculation\n",
    " \n",
    "### VASP Input Files\n",
    "To run a VASP job, you need at least four files:\n",
    "- **INCAR**: Defines calculation parameters (e.g., precision, convergence).\n",
    "- **POSCAR**: Specifies the atomic structure and lattice (e.g., GaAs unit cell).\n",
    "- **KPOINTS**: Sets the k-point mesh for Brillouin zone sampling.\n",
    "- **POTCAR**: Contains pseudopotential data for each element (Ga and As); not shared due to licensing.\n",
    "\n",
    "\n",
    "Each section below highlights changes to a base `INCAR` file for each calculation type. Adjust parameters (e.g., `NCORE`, `KPAR`, `NBANDS`) based on your system size and computational resources."
   ]
  },
  {
   "cell_type": "markdown",
   "id": "ca59233f-232b-467c-88b3-902b933aafad",
   "metadata": {},
   "source": [
    "## Base INCAR for GaAs Calculations\n",
    "This is the starting `INCAR` file for all calculations. Subsequent sections highlight only the changes for each step."
   ]
  },
  {
   "cell_type": "markdown",
   "id": "6b270058-f7bb-433e-bb7a-b22f8b6cfae1",
   "metadata": {},
   "source": [
    "System = GaAs Bulk\n",
    "ISTART = 0            ! Start fresh (no existing wavefunction)\n",
    "#ISPIN = 2            ! Uncomment for spin-polarized DFT (e.g., magnetic defects; GaAs is typically non-magnetic)\n",
    "PREC   = High         ! High precision for plane waves\n",
    "ALGO   = Normal       ! Default algorithm; test ALGO = Fast for speed once stable\n",
    "LREAL  = .FALSE.      ! Real-space projection off; try .TRUE. for large cells or surfaces\n",
    "ENCUT  = 400          ! Plane-wave cutoff (eV); ensure > 1.3 * ENMAX from POTCAR (GaAs typically needs ~400 eV)\n",
    "LWAVE  = .FALSE.      ! Don’t write WAVECAR (saves space)\n",
    "LCHARG = .FALSE.      ! Don’t write CHGCAR (enable for NSCF steps)\n",
    "\n",
    "#### Static Calculation\n",
    "ISMEAR = 0            ! Gaussian smearing for semiconductors like GaAs\n",
    "SIGMA  = 0.05         ! Smearing width (eV); test 0.01–0.1 for energy convergence\n",
    "NELM   = 100          ! Max electronic SCF steps\n",
    "#NBANDS = 32          ! Uncomment and adjust based on system size (e.g., 8 valence + 4 conduction per GaAs unit)\n",
    "EDIFF  = 1E-06        ! Energy convergence (eV)\n",
    "\n",
    "## Parallelization\n",
    "#NCORE = 4            ! Cores per node (adjust for your cluster)\n",
    "#KPAR  = 4            ! k-point parallelization; check IBZKPT file for number of irreducible k-points to optimize this "
   ]
  },
  {
   "cell_type": "markdown",
   "id": "08d9aa79-d052-451e-8cb7-a22cc44f89fe",
   "metadata": {},
   "source": [
    "## 1. SCF Calculation\n",
    "Computes the ground-state electronic structure. No changes to the base `INCAR` are needed beyond ensuring the convergence.\n",
    "\n"
   ]
  },
  {
   "cell_type": "markdown",
   "id": "9fe7b108-4020-46ed-82de-011f236a3da0",
   "metadata": {},
   "source": [
    "**Notes:**\r\n",
    "- Use a Γ-centered Monkhorst-Pack k-grid in your `KPOINTS` file (e.g., 8x8x8 for bulk GaAs; test convergence).\r\n",
    "- `ENCUT` should exceed the maximum `ENMAX` from your POTCAR files (check with `grep ENMAX POTCAR`; ~400 eV is typical for GaAs).\r\n",
    "- Run this first to generate a baseline charge density and wavefunction."
   ]
  },
  {
   "cell_type": "markdown",
   "id": "78055ab6-ca4b-4b8a-94c6-17a49d162e68",
   "metadata": {},
   "source": [
    "## 2. Geometry Optimization\n",
    "Relaxes ionic positions and lattice parameters of GaAs.\n",
    "\n",
    "**Changes to Base INCAR:**"
   ]
  },
  {
   "cell_type": "markdown",
   "id": "070ed3b4-4cd9-4853-8ff6-ed0a1fd12dd6",
   "metadata": {},
   "source": [
    "NSW    = 100          ! Max ionic steps; set to 0 for static SCF\n",
    "IBRION = 2            ! Conjugate gradient algorithm for relaxation\n",
    "ISIF   = 3            ! Relax ions and cell volume (use ISIF = 2 for fixed volume)\n",
    "EDIFFG = -0.01        ! Force convergence (eV/Å); forces < 0.01 eV/Å "
   ]
  },
  {
   "cell_type": "markdown",
   "id": "70655d59-63e5-4242-8e3d-03f41ea81375",
   "metadata": {},
   "source": [
    "**Notes:**\n",
    "- Use the same `KPOINTS` grid as in SCF (e.g., 8x8x8).\n",
    "- After convergence, check the `CONTCAR` for the optimized structure and update your `POSCAR`."
   ]
  },
  {
   "cell_type": "markdown",
   "id": "bd7f4c16-2932-4e01-9467-14e1b6a7364e",
   "metadata": {},
   "source": [
    "- **Equilibrium Volume Alternative**: To find the equilibrium volume manually, run DFT calculations at different volumes using the universal scaling factor from `POSCAR`. Add the provided shell script (`scale_vol.sh`) to your job submission file, then fit the energy-volume data with an equation of state using the provided Python script (`fit_eos.py`).\n",
    "- **Lattice Constraints**: Fix specific lattice parameters by adding [`LATTICE_CONSTRAINTS`](https://www.vasp.at/wiki/index.php/LATTICE_CONSTRAINTS) to `INCAR`. Useful for 2D/slab calculations; note a [bug in VASP < 6.5.0](https://www.vasp.at/forum/viewtopic.php?p=29882#p29882) affecting convergence.\n",
    "- **Advanced Control**: Check [`ICONST`](https://www.vasp.at/wiki/index.php/ICONST) for better control of volume and lattice changes in molecular dynamics simulations (e.g., constrain specific degrees of freedom)."
   ]
  },
  {
   "cell_type": "markdown",
   "id": "32fb6b34-23b4-4c2a-8007-0bf02f6df5f3",
   "metadata": {},
   "source": [
    "## 3. DOS Calculation\n",
    "Computes the density of states (SCF then NSCF with a denser grid).\n",
    "\n",
    "**Changes for SCF (in `dos/scf/`):**"
   ]
  },
  {
   "cell_type": "markdown",
   "id": "4506c243-4bd0-4107-9ad1-128c139006b8",
   "metadata": {},
   "source": [
    "LCHARG = .TRUE.       ! Write CHGCAR for NSCF step\n",
    "LORBIT = 11           ! Enable orbital-projected DOS (requires RWIGS in INCAR for PAW)\n",
    "NEDOS  = 2001         ! Number of DOS points; 2001 gives fine resolution "
   ]
  },
  {
   "cell_type": "markdown",
   "id": "66ed0dba-816f-4833-991c-4314afe2453a",
   "metadata": {},
   "source": [
    "**Changes for NSCF (in `dos/nscf/` after copying `CHGCAR`):**"
   ]
  },
  {
   "cell_type": "markdown",
   "id": "a1574d44-8bd3-4a9e-b61f-65fe3fa76c96",
   "metadata": {},
   "source": [
    "ISTART = 1            ! Read existing wavefunction\n",
    "ICHARG = 1            ! Read CHGCAR \n",
    "ISMEAR = -5           ! Tetrahedron method for semiconductors\n",
    "LCHARG = .FALSE.      ! No need to rewrite CHGCAR"
   ]
  },
  {
   "cell_type": "markdown",
   "id": "9c898683-e3ea-4815-8ebb-4409c47c0fda",
   "metadata": {},
   "source": [
    "**Notes:**\n",
    "- **SCF**: Run this first with the optimized `POSCAR` from geometry optimization and a moderate k-grid (e.g., 8x8x8).\n",
    "- **NSCF**: Copy the `CHGCAR`, change `ISMEAR = -5` (tetrahedron method), remove `SIGMA`, and use a denser k-grid (e.g., 12x12x12) for accurate DOS. Example NSCF `INCAR`:\n",
    "- Files in `dos/scf/` and `dos/nscf/`."
   ]
  },
  {
   "cell_type": "markdown",
   "id": "52e9d608-d88b-4fb4-b164-8148117ef1a3",
   "metadata": {},
   "source": [
    "## 4. Band Structure Calculation\n",
    "Computes the band structure along a high-symmetry k-path (e.g., L-Γ-X-W-Γ).\n",
    "\n",
    "**Changes to Base INCAR (after SCF with `LCHARG = .TRUE.`):**"
   ]
  },
  {
   "cell_type": "markdown",
   "id": "62e9cce7-210e-43cf-bc25-70aea91d4fed",
   "metadata": {},
   "source": [
    "ISTART = 1            ! Read existing wavefunction\n",
    "ICHARG = 11           ! Non-self-consistent; use CHGCAR for band structure\n",
    "ISMEAR = -5           ! Tetrahedron method for semiconductors\n",
    "LWAVE  = .TRUE.       ! Write WAVECAR (optional) \n",
    "LCHARG = .TRUE.       ! Write CHGCAR (optional)"
   ]
  },
  {
   "cell_type": "markdown",
   "id": "7c1bef4b-308e-4766-b0e3-da76d82aabef",
   "metadata": {},
   "source": [
    "**Notes:**\r\n",
    "- **Workflow**: \r\n",
    "  1. Run an SCF calculation with `LCHARG = .TRUE.` using a Monkhorst-Pack grid (e.g., 8x8x8).\r\n",
    "  2. Generate a k-path using tools like `vaspkit` or `seekpath` (e.g., L-Γ-X-W-Γ for zinc blende GaAs) and update `KPOINTS` to line mode.\r\n",
    "  3. Run this NSCF calculation with the `CHGCAR` from SCF.\r\n",
    "- Check the `EIGENVAL` file for band energies; plot to confirm the direct bandgap at Γ (~1.43 eV with GGA). Use tools like `p4vasp`sumo`ripts."
   ]
  },
  {
   "cell_type": "markdown",
   "id": "aa58871e-a045-4876-96b1-a43b82e84f06",
   "metadata": {},
   "source": [
    "## 5. Plotting and Analysis\n",
    "After running the calculations, use these tools to visualize and analyze results. Install `sumo` (`pip install sumo`) or `py4vasp` (`pip install py4vasp`). Run commands in the respective directories with VASP output files."
   ]
  },
  {
   "cell_type": "markdown",
   "id": "0ddc1278-f4c9-46e7-8dfe-e58f78459ab3",
   "metadata": {},
   "source": [
    "### Sumo Commands\n",
    "- **Band Plot**: Plots the band structure from `vasprun.xml`.\n",
    "  ```bash\n",
    "  cd band/\n",
    "  sumo-bandplot --ymin -2 --ymax 2\n",
    "### Py4VASP Commands\n",
    "  ```python\n",
    "  # In a Python script or Jupyter cell\n",
    "  from py4vasp import Calculation\n",
    "  calc = Calculation.from_path(\"band/\")\n",
    "  calc.band.plot().write_image(\"band.png\")"
   ]
  },
  {
   "cell_type": "markdown",
   "id": "d55119c8-53a8-4c47-aff4-93706ac24bb8",
   "metadata": {},
   "source": [
    "**Notes:**\n",
    "- Ensure vasprun.xml (`sumo`) or vaspout.h5 (`py4vasp`) exists in the directory.\n"
   ]
  },
  {
   "cell_type": "markdown",
   "id": "94e5455b-301b-4181-8853-941b398a49a3",
   "metadata": {
    "jp-MarkdownHeadingCollapsed": true
   },
   "source": [
    "## 6. General Tips\n",
    "1. **K-Points**: Always converge your k-grid for SCF (e.g., 8x8x8 → 10x10x10 → 12x12x12) and use a denser grid for DOS.\n",
    "2. **Parallelization**: \n",
    "   - `NCORE`: Set to the number of cores per node (e.g., 4 or 8).\n",
    "   - `KPAR`: Check `IBZKPT` after an SCF run; set to a divisor of the irreducible k-points for efficiency.\n",
    "3. **Convergence**: Test `ENCUT`, `SIGMA`, and k-points to ensure reliable results. GaAs bandgap may be underestimated with GGA; consider hybrid functionals (e.g., HSE06) for accuracy.\n",
    "4. **Files**: Use `POSCAR`, `POTCAR`, `KPOINTS`, and `INCAR` for each step; back up outputs like `OUTCAR` and `CONTCAR`.\n",
    "5. **Plotting**: Use `sumo-bandplot` for quick band plots, `sumo-bandstats` for effective masses, or `py4vasp` for interactive plots."
   ]
  }
 ],
 "metadata": {
  "kernelspec": {
   "display_name": "Python 3 (ipykernel)",
   "language": "python",
   "name": "python3"
  },
  "language_info": {
   "codemirror_mode": {
    "name": "ipython",
    "version": 3
   },
   "file_extension": ".py",
   "mimetype": "text/x-python",
   "name": "python",
   "nbconvert_exporter": "python",
   "pygments_lexer": "ipython3",
   "version": "3.12.4"
  }
 },
 "nbformat": 4,
 "nbformat_minor": 5
}
